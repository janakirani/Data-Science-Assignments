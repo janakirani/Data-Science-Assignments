{
  "nbformat": 4,
  "nbformat_minor": 0,
  "metadata": {
    "colab": {
      "provenance": []
    },
    "kernelspec": {
      "name": "python3",
      "display_name": "Python 3"
    },
    "language_info": {
      "name": "python"
    }
  },
  "cells": [
    {
      "cell_type": "markdown",
      "source": [
        "# **Estimation And Confidence Intervals:**"
      ],
      "metadata": {
        "id": "Er4vYSQLx7Wq"
      }
    },
    {
      "cell_type": "markdown",
      "source": [
        "a. Build 99% Confidence Interval Using Sample Standard Deviation"
      ],
      "metadata": {
        "id": "9UaYMV-nJImf"
      }
    },
    {
      "cell_type": "code",
      "source": [
        "from scipy import stats\n",
        "import pandas as pd\n",
        "import numpy as np"
      ],
      "metadata": {
        "id": "HJCZs9J3Jafl"
      },
      "execution_count": 1,
      "outputs": []
    },
    {
      "cell_type": "markdown",
      "source": [
        "By assuming the given sample as the population,\n",
        "data=[1.13, 1.55, 1.43, 0.92, 1.25, 1.36, 1.32, 0.85, 1.07, 1.48, 1.20, 1.33, 1.18, 1.22, 1.29]"
      ],
      "metadata": {
        "id": "KcbdfcMxLy_X"
      }
    },
    {
      "cell_type": "code",
      "source": [
        "data=pd.Series([1.13, 1.55, 1.43, 0.92, 1.25, 1.36, 1.32, 0.85, 1.07, 1.48, 1.20, 1.33, 1.18, 1.22, 1.29])"
      ],
      "metadata": {
        "id": "DGygzTclMQE6"
      },
      "execution_count": 2,
      "outputs": []
    },
    {
      "cell_type": "code",
      "source": [
        "data.mean()"
      ],
      "metadata": {
        "colab": {
          "base_uri": "https://localhost:8080/"
        },
        "id": "p77jZ-oLMadY",
        "outputId": "c75ddf49-960f-4a93-b2a4-3881b5bac230"
      },
      "execution_count": 3,
      "outputs": [
        {
          "output_type": "execute_result",
          "data": {
            "text/plain": [
              "1.2386666666666666"
            ]
          },
          "metadata": {},
          "execution_count": 3
        }
      ]
    },
    {
      "cell_type": "code",
      "source": [
        "data.std()"
      ],
      "metadata": {
        "colab": {
          "base_uri": "https://localhost:8080/"
        },
        "id": "bdJwb129MhHO",
        "outputId": "562928f9-9783-4c57-eb46-a29c46bfa8eb"
      },
      "execution_count": 4,
      "outputs": [
        {
          "output_type": "execute_result",
          "data": {
            "text/plain": [
              "0.19316412956959936"
            ]
          },
          "metadata": {},
          "execution_count": 4
        }
      ]
    },
    {
      "cell_type": "markdown",
      "source": [
        "To find the confidence interval for the mean with unknown standard deviation,we have to consider the sample standard deviation(s) as the population standard deviation(Sigma).\n",
        "    \n",
        "    t=¯x−μs√n\n",
        "    t=¯x+μs√n\n",
        "In python    \n",
        "\n",
        "    stats.t.interval(CL,n-1,mean(),std())\n",
        "\n",
        "For 99% confidence interval,\n",
        "\n",
        "    we got the mean=1.2387\n",
        "    we got the std(s)=0.19316\n",
        "    we got the sample size n=15"
      ],
      "metadata": {
        "id": "9Z2BjqaIM_pS"
      }
    },
    {
      "cell_type": "code",
      "source": [
        "data_ci_sd=stats.t.interval(0.99,14,1.238667,0.193164)\n",
        "print( 'The 99% confidence interval using sample standard deviation is:', np.round(data_ci_sd, 4))"
      ],
      "metadata": {
        "colab": {
          "base_uri": "https://localhost:8080/"
        },
        "id": "J2JEGmT_JNjl",
        "outputId": "697ccc9c-e9b7-44f3-da85-06376bb69f74"
      },
      "execution_count": 5,
      "outputs": [
        {
          "output_type": "stream",
          "name": "stdout",
          "text": [
            "The 99% confidence interval using sample standard deviation is: [0.6636 1.8137]\n"
          ]
        }
      ]
    },
    {
      "cell_type": "markdown",
      "source": [
        "**T-Distribution:**\n",
        "\n",
        "t-distibution is a type of normal distribution,we use If the sample size is small and the population standard deviation is unknown.Whether it is normal or t- distribution,it is used to describe the observations where observations will be very close to the population mean value.\n",
        "\n",
        "Here we're using the t-distribtion only because we don't know the population standard deviation and the sample size is also small.\n",
        "So,we will consider sample standard deviation as population standard deviation in t-distribution."
      ],
      "metadata": {
        "id": "Z2PccRQqQJZA"
      }
    },
    {
      "cell_type": "markdown",
      "source": [
        " b.Build 99% Confidence Interval Using Known Population Standard Deviation"
      ],
      "metadata": {
        "id": "ThxPCaFa4-u2"
      }
    },
    {
      "cell_type": "code",
      "source": [
        "data=pd.Series([1.13, 1.55, 1.43, 0.92, 1.25, 1.36, 1.32, 0.85, 1.07, 1.48, 1.20, 1.33, 1.18, 1.22, 1.29])"
      ],
      "metadata": {
        "id": "pFA3cdGGx2DE"
      },
      "execution_count": null,
      "outputs": []
    },
    {
      "cell_type": "code",
      "source": [
        "data.describe()"
      ],
      "metadata": {
        "colab": {
          "base_uri": "https://localhost:8080/"
        },
        "id": "km3FuW_G5N3i",
        "outputId": "eb958100-0229-4eaf-a0b5-1bb05380941b"
      },
      "execution_count": 6,
      "outputs": [
        {
          "output_type": "execute_result",
          "data": {
            "text/plain": [
              "count    15.000000\n",
              "mean      1.238667\n",
              "std       0.193164\n",
              "min       0.850000\n",
              "25%       1.155000\n",
              "50%       1.250000\n",
              "75%       1.345000\n",
              "max       1.550000\n",
              "dtype: float64"
            ]
          },
          "metadata": {},
          "execution_count": 6
        }
      ]
    },
    {
      "cell_type": "code",
      "source": [
        "data_ci = stats.norm.interval(0.99,loc = data.mean(),scale =0.2)\n",
        "print( 'The 99% confidence interval using population standard deviation is:', np.round(data_ci, 4))"
      ],
      "metadata": {
        "id": "4s0xRcTCyRF8",
        "colab": {
          "base_uri": "https://localhost:8080/"
        },
        "outputId": "ed71e157-9b02-42da-b7f8-28f37ca57f28"
      },
      "execution_count": 7,
      "outputs": [
        {
          "output_type": "stream",
          "name": "stdout",
          "text": [
            "The 99% confidence interval using population standard deviation is: [0.7235 1.7538]\n"
          ]
        }
      ]
    }
  ]
}