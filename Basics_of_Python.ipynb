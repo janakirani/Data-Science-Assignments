{
  "nbformat": 4,
  "nbformat_minor": 0,
  "metadata": {
    "colab": {
      "provenance": []
    },
    "kernelspec": {
      "name": "python3",
      "display_name": "Python 3"
    },
    "language_info": {
      "name": "python"
    }
  },
  "cells": [
    {
      "cell_type": "markdown",
      "source": [
        "# **Basic of Python**"
      ],
      "metadata": {
        "id": "ms0R1-oKhFTT"
      }
    },
    {
      "cell_type": "markdown",
      "source": [
        "1.Prime Numbers"
      ],
      "metadata": {
        "id": "wcLi-tM5hOph"
      }
    },
    {
      "cell_type": "code",
      "execution_count": null,
      "metadata": {
        "colab": {
          "base_uri": "https://localhost:8080/"
        },
        "id": "Y0wuSHnufmAz",
        "outputId": "2350b48d-ee25-4409-b6c0-42b7aaeb969c"
      },
      "outputs": [
        {
          "output_type": "stream",
          "name": "stdout",
          "text": [
            "4\n",
            "Not a prime number\n"
          ]
        }
      ],
      "source": [
        "a=int(input());\n",
        "if a>1:\n",
        "## range from 2 to a/2,it gives a float so we need to do floor division to get the integer value\n",
        "  for i in range(2,(a//2)+1):\n",
        "    if a%i==0:\n",
        "      print(\"Not a prime number\")\n",
        "    else:\n",
        "      print(\"Prime number\")\n",
        "else:\n",
        "  print(\"Not a prime numer\")"
      ]
    },
    {
      "cell_type": "markdown",
      "source": [
        "2.Product of Random Numbers"
      ],
      "metadata": {
        "id": "X1MHixNahUy3"
      }
    },
    {
      "cell_type": "code",
      "source": [
        "import random\n",
        "## to get random number we are using random.randint() function\n",
        "b=random.randint(1,100)\n",
        "c=random.randint(1,100)\n",
        "print(\"Randomly generated number1 is: \",b)\n",
        "print(\"Randomly generated number2 is\",c)\n",
        "## Taking user input\n",
        "print(\"Enter the product of the random variables: \")\n",
        "n=int(input())\n",
        "d=b*c\n",
        "if n==d:\n",
        "  print(\"YAY! your answer is correct..Congratulations!\")\n",
        "else:\n",
        "  print(\"Sorry,you have entered an incorrect answer..Good Luck!\")"
      ],
      "metadata": {
        "colab": {
          "base_uri": "https://localhost:8080/"
        },
        "id": "IXiLJNchhTZV",
        "outputId": "271c8a64-5009-46a3-c3a1-7e2848832a91"
      },
      "execution_count": null,
      "outputs": [
        {
          "output_type": "stream",
          "name": "stdout",
          "text": [
            "Randomly generated number1 is:  15\n",
            "Randomly generated number2 is 30\n",
            "Enter the product of the random variables: \n",
            "450\n",
            "YAY! your answer is correct..Congratulations!\n"
          ]
        }
      ]
    },
    {
      "cell_type": "markdown",
      "source": [
        "3.Squares of Even/Odd Numbers:"
      ],
      "metadata": {
        "id": "-DiUO66kmaUN"
      }
    },
    {
      "cell_type": "code",
      "source": [
        "for i in range(100,201):\n",
        "## if i is divisible by 2 then it will be an even number\n",
        "  if i%2==0:\n",
        "## Finding square using Exponential ** operator\n",
        "    i=i**2\n",
        "    print(i)"
      ],
      "metadata": {
        "colab": {
          "base_uri": "https://localhost:8080/"
        },
        "id": "oRc0RjqunCAZ",
        "outputId": "9014f1fd-50bf-44e0-cb9c-e118d131097a"
      },
      "execution_count": null,
      "outputs": [
        {
          "output_type": "stream",
          "name": "stdout",
          "text": [
            "10000\n",
            "10404\n",
            "10816\n",
            "11236\n",
            "11664\n",
            "12100\n",
            "12544\n",
            "12996\n",
            "13456\n",
            "13924\n",
            "14400\n",
            "14884\n",
            "15376\n",
            "15876\n",
            "16384\n",
            "16900\n",
            "17424\n",
            "17956\n",
            "18496\n",
            "19044\n",
            "19600\n",
            "20164\n",
            "20736\n",
            "21316\n",
            "21904\n",
            "22500\n",
            "23104\n",
            "23716\n",
            "24336\n",
            "24964\n",
            "25600\n",
            "26244\n",
            "26896\n",
            "27556\n",
            "28224\n",
            "28900\n",
            "29584\n",
            "30276\n",
            "30976\n",
            "31684\n",
            "32400\n",
            "33124\n",
            "33856\n",
            "34596\n",
            "35344\n",
            "36100\n",
            "36864\n",
            "37636\n",
            "38416\n",
            "39204\n",
            "40000\n"
          ]
        }
      ]
    },
    {
      "cell_type": "code",
      "source": [
        "for i in range(100,201):\n",
        "## if i is not divisible by 2 then it will be an odd number\n",
        "  if i%2!=0:\n",
        "## Finding square using Exponential ** operator\n",
        "    i=i**2\n",
        "    print(i)"
      ],
      "metadata": {
        "colab": {
          "base_uri": "https://localhost:8080/"
        },
        "id": "eHu_1Dcyopgm",
        "outputId": "59aa61ad-c0eb-4bd0-d5a3-c11dec3b1195"
      },
      "execution_count": null,
      "outputs": [
        {
          "output_type": "stream",
          "name": "stdout",
          "text": [
            "10201\n",
            "10609\n",
            "11025\n",
            "11449\n",
            "11881\n",
            "12321\n",
            "12769\n",
            "13225\n",
            "13689\n",
            "14161\n",
            "14641\n",
            "15129\n",
            "15625\n",
            "16129\n",
            "16641\n",
            "17161\n",
            "17689\n",
            "18225\n",
            "18769\n",
            "19321\n",
            "19881\n",
            "20449\n",
            "21025\n",
            "21609\n",
            "22201\n",
            "22801\n",
            "23409\n",
            "24025\n",
            "24649\n",
            "25281\n",
            "25921\n",
            "26569\n",
            "27225\n",
            "27889\n",
            "28561\n",
            "29241\n",
            "29929\n",
            "30625\n",
            "31329\n",
            "32041\n",
            "32761\n",
            "33489\n",
            "34225\n",
            "34969\n",
            "35721\n",
            "36481\n",
            "37249\n",
            "38025\n",
            "38809\n",
            "39601\n"
          ]
        }
      ]
    },
    {
      "cell_type": "markdown",
      "source": [
        "4.Word counter"
      ],
      "metadata": {
        "id": "8MZMe8SRpr_m"
      }
    },
    {
      "cell_type": "code",
      "source": [
        "input_text=input()\n",
        "## split the words in the input text\n",
        "Spil_in_text=input_text.split()\n",
        "## storing the result in a disctionary to access the key values easily\n",
        "result={}\n",
        "for i in Spil_in_text:\n",
        "  if i not in result.keys():\n",
        "    result[i]=0\n",
        "  result[i]=result[i]+1\n",
        "print(result)"
      ],
      "metadata": {
        "id": "YpkSiq8RpKdP",
        "colab": {
          "base_uri": "https://localhost:8080/"
        },
        "outputId": "17f27bca-3e4b-4cd8-bd8a-0cc6f78306dd"
      },
      "execution_count": 7,
      "outputs": [
        {
          "output_type": "stream",
          "name": "stdout",
          "text": [
            "Hi Hello Hello Janaki Here Hello Hi\n",
            "{'Hi': 2, 'Hello': 3, 'Janaki': 1, 'Here': 1}\n"
          ]
        }
      ]
    },
    {
      "cell_type": "markdown",
      "source": [
        "5.Palindrome"
      ],
      "metadata": {
        "id": "oG7G3M_0rZjY"
      }
    },
    {
      "cell_type": "code",
      "source": [
        "x = input()\n",
        "## user input\n",
        "f = \"\"\n",
        "for i in x:\n",
        "    f = i + f\n",
        "\n",
        "if (f == x):\n",
        "    print(True)\n",
        "else:\n",
        "    print(False)"
      ],
      "metadata": {
        "id": "0M3oW3WAuoPB",
        "colab": {
          "base_uri": "https://localhost:8080/"
        },
        "outputId": "15669e10-37a1-4d61-f765-2b8eb53fba7f"
      },
      "execution_count": 5,
      "outputs": [
        {
          "output_type": "stream",
          "name": "stdout",
          "text": [
            "racecar\n",
            "True\n"
          ]
        }
      ]
    }
  ]
}