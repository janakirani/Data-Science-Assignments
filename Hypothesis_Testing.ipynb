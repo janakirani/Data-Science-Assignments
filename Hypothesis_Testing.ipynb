{
  "nbformat": 4,
  "nbformat_minor": 0,
  "metadata": {
    "colab": {
      "provenance": []
    },
    "kernelspec": {
      "name": "python3",
      "display_name": "Python 3"
    },
    "language_info": {
      "name": "python"
    }
  },
  "cells": [
    {
      "cell_type": "markdown",
      "source": [
        "# **HYPOTHESIS TESTING:**"
      ],
      "metadata": {
        "id": "rI4lQv04Sr4a"
      }
    },
    {
      "cell_type": "markdown",
      "source": [
        "**1. State the Hypotheses statement:**\n",
        "\n",
        "The null hypothesis(H0):The given cost model may no longer be accurate.\n",
        "The alternate hypothesis(H1):The given cost model is accurate."
      ],
      "metadata": {
        "id": "aV6dBcrhS1LU"
      }
    },
    {
      "cell_type": "code",
      "execution_count": 1,
      "metadata": {
        "id": "jc4t9E-PSo6U"
      },
      "outputs": [],
      "source": [
        "import pandas as pd\n",
        "import scipy\n",
        "import numpy as np\n",
        "from scipy import stats"
      ]
    },
    {
      "cell_type": "markdown",
      "source": [
        "**2. Calculate the Test Statistic:**\n",
        "\n",
        "\n",
        "As per the given problem\n",
        "\n",
        "          •\tˉxˉ =3,050\n",
        "          •\tμ   =$1000+$5*X=$1000+$5*25=$4000\n",
        "          •\tσ   =5*25=125\n",
        "          •\tn   =25\n",
        "      So, t=(ˉxˉ - μ)/(σ / sqrt(n))\n",
        "      From the above values\n",
        "          t=(3050-4000)/125/sqrt(25)"
      ],
      "metadata": {
        "id": "C_kezPKFTUDM"
      }
    },
    {
      "cell_type": "code",
      "source": [
        "#Finding the test statistics\n",
        "T=(3050-4000)/(125/np.sqrt(25))"
      ],
      "metadata": {
        "id": "nbAclxHSMhZL"
      },
      "execution_count": 35,
      "outputs": []
    },
    {
      "cell_type": "code",
      "source": [
        "T"
      ],
      "metadata": {
        "colab": {
          "base_uri": "https://localhost:8080/"
        },
        "id": "8b21FAoaNFPZ",
        "outputId": "ffa1d4bc-4c06-40d0-abee-186a812b06f0"
      },
      "execution_count": 36,
      "outputs": [
        {
          "output_type": "execute_result",
          "data": {
            "text/plain": [
              "-38.0"
            ]
          },
          "metadata": {},
          "execution_count": 36
        }
      ]
    },
    {
      "cell_type": "code",
      "source": [
        "#Finding the p_value\n",
        "p_value=2*stats.t.cdf(-38,df=24)"
      ],
      "metadata": {
        "id": "Jq4FW7itNHaN"
      },
      "execution_count": 37,
      "outputs": []
    },
    {
      "cell_type": "code",
      "source": [
        "p_value"
      ],
      "metadata": {
        "colab": {
          "base_uri": "https://localhost:8080/"
        },
        "id": "SBlnBJeZQuIW",
        "outputId": "3ad7db35-4a47-49fa-9c27-060317342fb8"
      },
      "execution_count": 38,
      "outputs": [
        {
          "output_type": "execute_result",
          "data": {
            "text/plain": [
              "5.921562161635581e-23"
            ]
          },
          "metadata": {},
          "execution_count": 38
        }
      ]
    },
    {
      "cell_type": "markdown",
      "source": [
        "**3. Determine the Critical Value:**\n",
        "\n",
        "A sample mean with a z-score less than or equal to the critical value of -1.645 is significant at the 0.05 level."
      ],
      "metadata": {
        "id": "7qh8qZYMXgXe"
      }
    },
    {
      "cell_type": "markdown",
      "source": [
        "**4. Make a Decision:**"
      ],
      "metadata": {
        "id": "UZxU_hPAXtCL"
      }
    },
    {
      "cell_type": "markdown",
      "source": [
        "Here our significance level(Alpha)is 0.05\n",
        "\n",
        "So we know that,If p_value<=0.05 then we can reject the null Hypothesis/can accept alterate hypothesis and If p_value>0.05 then we cann accept the null hypothesis.\n",
        "\n",
        "Here we got the p_value as 5.921e-23= -6.90\n",
        "\n",
        "So,    5.921e-23<0.05 so we can reject the null Hypothesis.\n",
        "\n",
        "Finally we can say The given cost model is accurate."
      ],
      "metadata": {
        "id": "1wwyLpQdQxjr"
      }
    },
    {
      "cell_type": "markdown",
      "source": [
        "**5. Conclusion:**\n",
        "\n",
        "Based on the step 4 we can reject the null hypothesis.We have the probability of null hypothesis being true is 5.92e-23 which is very less than the significance level 0.05.So, we can\n",
        "conclude that there is no strong evidence to support the restaurant owners' claim that the weekly operating costs are higher than the model suggests."
      ],
      "metadata": {
        "id": "Yvz7Cq__X7kg"
      }
    }
  ]
}