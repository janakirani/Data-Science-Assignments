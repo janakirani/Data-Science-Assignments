{
  "nbformat": 4,
  "nbformat_minor": 0,
  "metadata": {
    "colab": {
      "provenance": []
    },
    "kernelspec": {
      "name": "ir",
      "display_name": "R"
    },
    "language_info": {
      "name": "R"
    }
  },
  "cells": [
    {
      "cell_type": "markdown",
      "source": [
        "# **CHI-SQUARE TEST**"
      ],
      "metadata": {
        "id": "tMmXoJ-GhFX7"
      }
    },
    {
      "cell_type": "markdown",
      "source": [
        "**1. State the Hypothesis:**"
      ],
      "metadata": {
        "id": "I48AA_Q6nwEX"
      }
    },
    {
      "cell_type": "markdown",
      "source": [
        "\n",
        "The null hypothesis(H0):There's No significant association between the type of device purchased and the customer's satisfaction level.\n",
        "\n",
        "The alternate hypothesis(H1):There's a significant association between the type of device purchased and the customer's satisfaction level."
      ],
      "metadata": {
        "id": "xRmvjmpXhMXY"
      }
    },
    {
      "cell_type": "markdown",
      "source": [
        "**2. Compute the Chi-Square Statistic:**"
      ],
      "metadata": {
        "id": "QGgFD4vAjakU"
      }
    },
    {
      "cell_type": "code",
      "execution_count": 1,
      "metadata": {
        "colab": {
          "base_uri": "https://localhost:8080/",
          "height": 107
        },
        "id": "PaGFaXrJg81I",
        "outputId": "083e00aa-cf28-401a-d3d4-002e8e24aa96"
      },
      "outputs": [
        {
          "output_type": "display_data",
          "data": {
            "text/plain": [
              "\n",
              "\tPearson's Chi-squared test\n",
              "\n",
              "data:  A\n",
              "X-squared = 5.6382, df = 4, p-value = 0.2278\n"
            ]
          },
          "metadata": {}
        }
      ],
      "source": [
        "A<-matrix(c(50,70,80,100,60,90,30,50,20,50),nrow = 5,ncol = 2,byrow = TRUE)\n",
        "colnames(A)<-c(\"Smart Thermostat\",\"Smart Light\")\n",
        "rownames(A)<-c(\"Very Satisfied\",\"Satisfied\",\"Neutral\",\"Unsatisfied\",\"Very Unsatisfied\")\n",
        "chisq.test(A)"
      ]
    },
    {
      "cell_type": "markdown",
      "source": [
        "**3. Determine the Critical Value:**"
      ],
      "metadata": {
        "id": "JXqjlCQ_jfHm"
      }
    },
    {
      "cell_type": "markdown",
      "source": [
        "We got the df as 4 and significance level is 0.05.\n",
        "\n",
        "So,as per CHI-SQUARE table at 0.05 significance level and df as 4 the critical value is 9.48773."
      ],
      "metadata": {
        "id": "xDDF4_XzkJDo"
      }
    },
    {
      "cell_type": "markdown",
      "source": [
        "**4. Make a Decision:**"
      ],
      "metadata": {
        "id": "KccYdLGelB1c"
      }
    },
    {
      "cell_type": "markdown",
      "source": [
        "test statistics=5.6382 < critical value=9.48773\n",
        "The test statistics is less than the critical value so,we can accept the null hypothesis at the specified significance level."
      ],
      "metadata": {
        "id": "dzvV-xFIlXbg"
      }
    },
    {
      "cell_type": "markdown",
      "source": [
        "**5.Conclusion**"
      ],
      "metadata": {
        "id": "Ocb69DjVmzwd"
      }
    },
    {
      "cell_type": "markdown",
      "source": [
        "Based on the step 4 we can Accept the null hypothesis.We have the probability of null hypothesis being true is 0.2278 which is greater than the significance level 0.05.So, we can\n",
        "conclude that There's No significant association between the type of device purchased and the customer's satisfaction level."
      ],
      "metadata": {
        "id": "645XHQF1m3o3"
      }
    }
  ]
}